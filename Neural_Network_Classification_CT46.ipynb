{
  "nbformat": 4,
  "nbformat_minor": 0,
  "metadata": {
    "colab": {
      "name": "Neural_Network_Classification_CT46.ipynb",
      "provenance": [],
      "collapsed_sections": [],
      "include_colab_link": true
    },
    "kernelspec": {
      "name": "python3",
      "display_name": "Python 3"
    },
    "language_info": {
      "name": "python"
    }
  },
  "cells": [
    {
      "cell_type": "markdown",
      "metadata": {
        "id": "view-in-github",
        "colab_type": "text"
      },
      "source": [
        "<a href=\"https://colab.research.google.com/github/ritik7693/ml-lab-work-ct46/blob/main/Neural_Network_Classification_CT46.ipynb\" target=\"_parent\"><img src=\"https://colab.research.google.com/assets/colab-badge.svg\" alt=\"Open In Colab\"/></a>"
      ]
    },
    {
      "cell_type": "markdown",
      "metadata": {
        "id": "nhPEM4IUoDKA"
      },
      "source": [
        "CO CST IMPLEMENTATION OF NEURAL NETWORK\n",
        "\n"
      ]
    },
    {
      "cell_type": "markdown",
      "metadata": {
        "id": "ZpJe0cAaoG98"
      },
      "source": [
        "# Tutorial 3: Neural Network Classification"
      ]
    },
    {
      "cell_type": "markdown",
      "metadata": {
        "id": "dIT7QrK2PwdM"
      },
      "source": [
        "Dataset: [Pima Indian Diabetes Dataset](https://data.world/data-society/pima-indians-diabetes-database#)\n",
        "\n",
        "This dataset is originally from the National Institute of Diabetes and Digestive and Kidney Diseases. The objective is to predict based on diagnostic measurements whether a patient has diabetes.\n",
        "\n",
        "Several constraints were placed on the selection of these instances from a larger database. In particular, all patients here are females at least 21 years old of Pima Indian heritage.\n",
        "\n",
        "Attributes of PIMA dataset:\n",
        "\n",
        "**Pregnancies**: Number of times pregnant\n",
        "\n",
        "**Glucose**: Plasma glucose concentration a 2 hours in an oral glucose tolerance test\n",
        "\n",
        "**BloodPressure**: Diastolic blood pressure (mm Hg)\n",
        "\n",
        "**SkinThickness**: Triceps skin fold thickness (mm)\n",
        "\n",
        "**Insulin**: 2-Hour serum insulin (mu U/ml)\n",
        "\n",
        "**BMI**: Body mass index (weight in kg/(height in m)^2)\n",
        "\n",
        "**DiabetesPedigreeFunction**: Diabetes pedigree function\n",
        "\n",
        "**Age**: Age (years)\n",
        "\n",
        "**Outcome**: Class variable (0 or 1)"
      ]
    },
    {
      "cell_type": "markdown",
      "metadata": {
        "id": "FIAgs3sTY712"
      },
      "source": [
        "**1. Mount the Google Drive**"
      ]
    },
    {
      "cell_type": "code",
      "metadata": {
        "id": "CrZg_G5MQ4L5",
        "colab": {
          "base_uri": "https://localhost:8080/"
        },
        "outputId": "df8afdc6-8224-41f3-a47a-c95bdb58ce2b"
      },
      "source": [
        "from google.colab import drive\n",
        "drive.mount('/content/drive')"
      ],
      "execution_count": 1,
      "outputs": [
        {
          "output_type": "stream",
          "name": "stdout",
          "text": [
            "Mounted at /content/drive\n"
          ]
        }
      ]
    },
    {
      "cell_type": "markdown",
      "metadata": {
        "id": "CqAhYoWHZAwg"
      },
      "source": [
        "**2. Move to the place where data resides**"
      ]
    },
    {
      "cell_type": "code",
      "metadata": {
        "colab": {
          "base_uri": "https://localhost:8080/"
        },
        "id": "TjgG_3CiP4eQ",
        "outputId": "9389ea81-366f-42e9-c75a-054a9b884476"
      },
      "source": [
        "%cd /content/drive/MyDrive/dataset ml/"
      ],
      "execution_count": 3,
      "outputs": [
        {
          "output_type": "stream",
          "name": "stdout",
          "text": [
            "/content/drive/MyDrive/dataset ml\n"
          ]
        }
      ]
    },
    {
      "cell_type": "code",
      "source": [
        "!ls"
      ],
      "metadata": {
        "id": "S-KhHH_xATY8",
        "colab": {
          "base_uri": "https://localhost:8080/"
        },
        "outputId": "54a34a5c-7a8c-49ed-d809-155fdbcf087f"
      },
      "execution_count": 4,
      "outputs": [
        {
          "output_type": "stream",
          "name": "stdout",
          "text": [
            "diabetes.csv\n"
          ]
        }
      ]
    },
    {
      "cell_type": "code",
      "source": [
        ""
      ],
      "metadata": {
        "id": "f65jHMx2I_1O"
      },
      "execution_count": null,
      "outputs": []
    },
    {
      "cell_type": "markdown",
      "metadata": {
        "id": "VKvfswsOZLUB"
      },
      "source": [
        "**3. Read the dataset from CSV file**"
      ]
    },
    {
      "cell_type": "code",
      "metadata": {
        "colab": {
          "base_uri": "https://localhost:8080/",
          "height": 363
        },
        "id": "32nNonRSSaQq",
        "outputId": "8648f32f-35ee-4c62-a3cc-a4c08354b640"
      },
      "source": [
        "import pandas as pd\n",
        "data = pd.read_csv('diabetes.csv')\n",
        "data.head(10)"
      ],
      "execution_count": 5,
      "outputs": [
        {
          "output_type": "execute_result",
          "data": {
            "text/plain": [
              "   Pregnancies  Glucose  BloodPressure  SkinThickness  Insulin   BMI  \\\n",
              "0            6      148             72             35        0  33.6   \n",
              "1            1       85             66             29        0  26.6   \n",
              "2            8      183             64              0        0  23.3   \n",
              "3            1       89             66             23       94  28.1   \n",
              "4            0      137             40             35      168  43.1   \n",
              "5            5      116             74              0        0  25.6   \n",
              "6            3       78             50             32       88  31.0   \n",
              "7           10      115              0              0        0  35.3   \n",
              "8            2      197             70             45      543  30.5   \n",
              "9            8      125             96              0        0   0.0   \n",
              "\n",
              "   DiabetesPedigreeFunction  Age  Outcome  \n",
              "0                     0.627   50        1  \n",
              "1                     0.351   31        0  \n",
              "2                     0.672   32        1  \n",
              "3                     0.167   21        0  \n",
              "4                     2.288   33        1  \n",
              "5                     0.201   30        0  \n",
              "6                     0.248   26        1  \n",
              "7                     0.134   29        0  \n",
              "8                     0.158   53        1  \n",
              "9                     0.232   54        1  "
            ],
            "text/html": [
              "\n",
              "  <div id=\"df-3bf306e8-6507-494d-9b44-0480719ff3b3\">\n",
              "    <div class=\"colab-df-container\">\n",
              "      <div>\n",
              "<style scoped>\n",
              "    .dataframe tbody tr th:only-of-type {\n",
              "        vertical-align: middle;\n",
              "    }\n",
              "\n",
              "    .dataframe tbody tr th {\n",
              "        vertical-align: top;\n",
              "    }\n",
              "\n",
              "    .dataframe thead th {\n",
              "        text-align: right;\n",
              "    }\n",
              "</style>\n",
              "<table border=\"1\" class=\"dataframe\">\n",
              "  <thead>\n",
              "    <tr style=\"text-align: right;\">\n",
              "      <th></th>\n",
              "      <th>Pregnancies</th>\n",
              "      <th>Glucose</th>\n",
              "      <th>BloodPressure</th>\n",
              "      <th>SkinThickness</th>\n",
              "      <th>Insulin</th>\n",
              "      <th>BMI</th>\n",
              "      <th>DiabetesPedigreeFunction</th>\n",
              "      <th>Age</th>\n",
              "      <th>Outcome</th>\n",
              "    </tr>\n",
              "  </thead>\n",
              "  <tbody>\n",
              "    <tr>\n",
              "      <th>0</th>\n",
              "      <td>6</td>\n",
              "      <td>148</td>\n",
              "      <td>72</td>\n",
              "      <td>35</td>\n",
              "      <td>0</td>\n",
              "      <td>33.6</td>\n",
              "      <td>0.627</td>\n",
              "      <td>50</td>\n",
              "      <td>1</td>\n",
              "    </tr>\n",
              "    <tr>\n",
              "      <th>1</th>\n",
              "      <td>1</td>\n",
              "      <td>85</td>\n",
              "      <td>66</td>\n",
              "      <td>29</td>\n",
              "      <td>0</td>\n",
              "      <td>26.6</td>\n",
              "      <td>0.351</td>\n",
              "      <td>31</td>\n",
              "      <td>0</td>\n",
              "    </tr>\n",
              "    <tr>\n",
              "      <th>2</th>\n",
              "      <td>8</td>\n",
              "      <td>183</td>\n",
              "      <td>64</td>\n",
              "      <td>0</td>\n",
              "      <td>0</td>\n",
              "      <td>23.3</td>\n",
              "      <td>0.672</td>\n",
              "      <td>32</td>\n",
              "      <td>1</td>\n",
              "    </tr>\n",
              "    <tr>\n",
              "      <th>3</th>\n",
              "      <td>1</td>\n",
              "      <td>89</td>\n",
              "      <td>66</td>\n",
              "      <td>23</td>\n",
              "      <td>94</td>\n",
              "      <td>28.1</td>\n",
              "      <td>0.167</td>\n",
              "      <td>21</td>\n",
              "      <td>0</td>\n",
              "    </tr>\n",
              "    <tr>\n",
              "      <th>4</th>\n",
              "      <td>0</td>\n",
              "      <td>137</td>\n",
              "      <td>40</td>\n",
              "      <td>35</td>\n",
              "      <td>168</td>\n",
              "      <td>43.1</td>\n",
              "      <td>2.288</td>\n",
              "      <td>33</td>\n",
              "      <td>1</td>\n",
              "    </tr>\n",
              "    <tr>\n",
              "      <th>5</th>\n",
              "      <td>5</td>\n",
              "      <td>116</td>\n",
              "      <td>74</td>\n",
              "      <td>0</td>\n",
              "      <td>0</td>\n",
              "      <td>25.6</td>\n",
              "      <td>0.201</td>\n",
              "      <td>30</td>\n",
              "      <td>0</td>\n",
              "    </tr>\n",
              "    <tr>\n",
              "      <th>6</th>\n",
              "      <td>3</td>\n",
              "      <td>78</td>\n",
              "      <td>50</td>\n",
              "      <td>32</td>\n",
              "      <td>88</td>\n",
              "      <td>31.0</td>\n",
              "      <td>0.248</td>\n",
              "      <td>26</td>\n",
              "      <td>1</td>\n",
              "    </tr>\n",
              "    <tr>\n",
              "      <th>7</th>\n",
              "      <td>10</td>\n",
              "      <td>115</td>\n",
              "      <td>0</td>\n",
              "      <td>0</td>\n",
              "      <td>0</td>\n",
              "      <td>35.3</td>\n",
              "      <td>0.134</td>\n",
              "      <td>29</td>\n",
              "      <td>0</td>\n",
              "    </tr>\n",
              "    <tr>\n",
              "      <th>8</th>\n",
              "      <td>2</td>\n",
              "      <td>197</td>\n",
              "      <td>70</td>\n",
              "      <td>45</td>\n",
              "      <td>543</td>\n",
              "      <td>30.5</td>\n",
              "      <td>0.158</td>\n",
              "      <td>53</td>\n",
              "      <td>1</td>\n",
              "    </tr>\n",
              "    <tr>\n",
              "      <th>9</th>\n",
              "      <td>8</td>\n",
              "      <td>125</td>\n",
              "      <td>96</td>\n",
              "      <td>0</td>\n",
              "      <td>0</td>\n",
              "      <td>0.0</td>\n",
              "      <td>0.232</td>\n",
              "      <td>54</td>\n",
              "      <td>1</td>\n",
              "    </tr>\n",
              "  </tbody>\n",
              "</table>\n",
              "</div>\n",
              "      <button class=\"colab-df-convert\" onclick=\"convertToInteractive('df-3bf306e8-6507-494d-9b44-0480719ff3b3')\"\n",
              "              title=\"Convert this dataframe to an interactive table.\"\n",
              "              style=\"display:none;\">\n",
              "        \n",
              "  <svg xmlns=\"http://www.w3.org/2000/svg\" height=\"24px\"viewBox=\"0 0 24 24\"\n",
              "       width=\"24px\">\n",
              "    <path d=\"M0 0h24v24H0V0z\" fill=\"none\"/>\n",
              "    <path d=\"M18.56 5.44l.94 2.06.94-2.06 2.06-.94-2.06-.94-.94-2.06-.94 2.06-2.06.94zm-11 1L8.5 8.5l.94-2.06 2.06-.94-2.06-.94L8.5 2.5l-.94 2.06-2.06.94zm10 10l.94 2.06.94-2.06 2.06-.94-2.06-.94-.94-2.06-.94 2.06-2.06.94z\"/><path d=\"M17.41 7.96l-1.37-1.37c-.4-.4-.92-.59-1.43-.59-.52 0-1.04.2-1.43.59L10.3 9.45l-7.72 7.72c-.78.78-.78 2.05 0 2.83L4 21.41c.39.39.9.59 1.41.59.51 0 1.02-.2 1.41-.59l7.78-7.78 2.81-2.81c.8-.78.8-2.07 0-2.86zM5.41 20L4 18.59l7.72-7.72 1.47 1.35L5.41 20z\"/>\n",
              "  </svg>\n",
              "      </button>\n",
              "      \n",
              "  <style>\n",
              "    .colab-df-container {\n",
              "      display:flex;\n",
              "      flex-wrap:wrap;\n",
              "      gap: 12px;\n",
              "    }\n",
              "\n",
              "    .colab-df-convert {\n",
              "      background-color: #E8F0FE;\n",
              "      border: none;\n",
              "      border-radius: 50%;\n",
              "      cursor: pointer;\n",
              "      display: none;\n",
              "      fill: #1967D2;\n",
              "      height: 32px;\n",
              "      padding: 0 0 0 0;\n",
              "      width: 32px;\n",
              "    }\n",
              "\n",
              "    .colab-df-convert:hover {\n",
              "      background-color: #E2EBFA;\n",
              "      box-shadow: 0px 1px 2px rgba(60, 64, 67, 0.3), 0px 1px 3px 1px rgba(60, 64, 67, 0.15);\n",
              "      fill: #174EA6;\n",
              "    }\n",
              "\n",
              "    [theme=dark] .colab-df-convert {\n",
              "      background-color: #3B4455;\n",
              "      fill: #D2E3FC;\n",
              "    }\n",
              "\n",
              "    [theme=dark] .colab-df-convert:hover {\n",
              "      background-color: #434B5C;\n",
              "      box-shadow: 0px 1px 3px 1px rgba(0, 0, 0, 0.15);\n",
              "      filter: drop-shadow(0px 1px 2px rgba(0, 0, 0, 0.3));\n",
              "      fill: #FFFFFF;\n",
              "    }\n",
              "  </style>\n",
              "\n",
              "      <script>\n",
              "        const buttonEl =\n",
              "          document.querySelector('#df-3bf306e8-6507-494d-9b44-0480719ff3b3 button.colab-df-convert');\n",
              "        buttonEl.style.display =\n",
              "          google.colab.kernel.accessAllowed ? 'block' : 'none';\n",
              "\n",
              "        async function convertToInteractive(key) {\n",
              "          const element = document.querySelector('#df-3bf306e8-6507-494d-9b44-0480719ff3b3');\n",
              "          const dataTable =\n",
              "            await google.colab.kernel.invokeFunction('convertToInteractive',\n",
              "                                                     [key], {});\n",
              "          if (!dataTable) return;\n",
              "\n",
              "          const docLinkHtml = 'Like what you see? Visit the ' +\n",
              "            '<a target=\"_blank\" href=https://colab.research.google.com/notebooks/data_table.ipynb>data table notebook</a>'\n",
              "            + ' to learn more about interactive tables.';\n",
              "          element.innerHTML = '';\n",
              "          dataTable['output_type'] = 'display_data';\n",
              "          await google.colab.output.renderOutput(dataTable, element);\n",
              "          const docLink = document.createElement('div');\n",
              "          docLink.innerHTML = docLinkHtml;\n",
              "          element.appendChild(docLink);\n",
              "        }\n",
              "      </script>\n",
              "    </div>\n",
              "  </div>\n",
              "  "
            ]
          },
          "metadata": {},
          "execution_count": 5
        }
      ]
    },
    {
      "cell_type": "code",
      "metadata": {
        "colab": {
          "base_uri": "https://localhost:8080/"
        },
        "id": "ZrslDLESShr7",
        "outputId": "f0cbe934-f9f1-4e35-b73c-d25ed3367cbe"
      },
      "source": [
        "data.columns"
      ],
      "execution_count": 6,
      "outputs": [
        {
          "output_type": "execute_result",
          "data": {
            "text/plain": [
              "Index(['Pregnancies', 'Glucose', 'BloodPressure', 'SkinThickness', 'Insulin',\n",
              "       'BMI', 'DiabetesPedigreeFunction', 'Age', 'Outcome'],\n",
              "      dtype='object')"
            ]
          },
          "metadata": {},
          "execution_count": 6
        }
      ]
    },
    {
      "cell_type": "code",
      "metadata": {
        "colab": {
          "base_uri": "https://localhost:8080/"
        },
        "id": "BLElehZ-Skgq",
        "outputId": "95842dce-c4b2-495f-dc6f-023cb30e74d4"
      },
      "source": [
        "data.values"
      ],
      "execution_count": 7,
      "outputs": [
        {
          "output_type": "execute_result",
          "data": {
            "text/plain": [
              "array([[  6.   , 148.   ,  72.   , ...,   0.627,  50.   ,   1.   ],\n",
              "       [  1.   ,  85.   ,  66.   , ...,   0.351,  31.   ,   0.   ],\n",
              "       [  8.   , 183.   ,  64.   , ...,   0.672,  32.   ,   1.   ],\n",
              "       ...,\n",
              "       [  5.   , 121.   ,  72.   , ...,   0.245,  30.   ,   0.   ],\n",
              "       [  1.   , 126.   ,  60.   , ...,   0.349,  47.   ,   1.   ],\n",
              "       [  1.   ,  93.   ,  70.   , ...,   0.315,  23.   ,   0.   ]])"
            ]
          },
          "metadata": {},
          "execution_count": 7
        }
      ]
    },
    {
      "cell_type": "markdown",
      "metadata": {
        "id": "2HnZxGc4ZQlf"
      },
      "source": [
        "**4. Store the data into input feature and label variables**"
      ]
    },
    {
      "cell_type": "code",
      "metadata": {
        "colab": {
          "base_uri": "https://localhost:8080/"
        },
        "id": "IPfA5BF0Sm4R",
        "outputId": "386b88b0-7d5a-4b79-90e5-d93fb985a455"
      },
      "source": [
        "dataset= data.values\n",
        "X = dataset[:,0:8]\n",
        "Y = dataset[:,8]\n",
        "print(X)\n",
        "print(Y)"
      ],
      "execution_count": 8,
      "outputs": [
        {
          "output_type": "stream",
          "name": "stdout",
          "text": [
            "[[  6.    148.     72.    ...  33.6     0.627  50.   ]\n",
            " [  1.     85.     66.    ...  26.6     0.351  31.   ]\n",
            " [  8.    183.     64.    ...  23.3     0.672  32.   ]\n",
            " ...\n",
            " [  5.    121.     72.    ...  26.2     0.245  30.   ]\n",
            " [  1.    126.     60.    ...  30.1     0.349  47.   ]\n",
            " [  1.     93.     70.    ...  30.4     0.315  23.   ]]\n",
            "[1. 0. 1. 0. 1. 0. 1. 0. 1. 1. 0. 1. 0. 1. 1. 1. 1. 1. 0. 1. 0. 0. 1. 1.\n",
            " 1. 1. 1. 0. 0. 0. 0. 1. 0. 0. 0. 0. 0. 1. 1. 1. 0. 0. 0. 1. 0. 1. 0. 0.\n",
            " 1. 0. 0. 0. 0. 1. 0. 0. 1. 0. 0. 0. 0. 1. 0. 0. 1. 0. 1. 0. 0. 0. 1. 0.\n",
            " 1. 0. 0. 0. 0. 0. 1. 0. 0. 0. 0. 0. 1. 0. 0. 0. 1. 0. 0. 0. 0. 1. 0. 0.\n",
            " 0. 0. 0. 1. 1. 0. 0. 0. 0. 0. 0. 0. 0. 1. 1. 1. 0. 0. 1. 1. 1. 0. 0. 0.\n",
            " 1. 0. 0. 0. 1. 1. 0. 0. 1. 1. 1. 1. 1. 0. 0. 0. 0. 0. 0. 0. 0. 0. 0. 1.\n",
            " 0. 0. 0. 0. 0. 0. 0. 0. 1. 0. 1. 1. 0. 0. 0. 1. 0. 0. 0. 0. 1. 1. 0. 0.\n",
            " 0. 0. 1. 1. 0. 0. 0. 1. 0. 1. 0. 1. 0. 0. 0. 0. 0. 1. 1. 1. 1. 1. 0. 0.\n",
            " 1. 1. 0. 1. 0. 1. 1. 1. 0. 0. 0. 0. 0. 0. 1. 1. 0. 1. 0. 0. 0. 1. 1. 1.\n",
            " 1. 0. 1. 1. 1. 1. 0. 0. 0. 0. 0. 1. 0. 0. 1. 1. 0. 0. 0. 1. 1. 1. 1. 0.\n",
            " 0. 0. 1. 1. 0. 1. 0. 0. 0. 0. 0. 0. 0. 0. 1. 1. 0. 0. 0. 1. 0. 1. 0. 0.\n",
            " 1. 0. 1. 0. 0. 1. 1. 0. 0. 0. 0. 0. 1. 0. 0. 0. 1. 0. 0. 1. 1. 0. 0. 1.\n",
            " 0. 0. 0. 1. 1. 1. 0. 0. 1. 0. 1. 0. 1. 1. 0. 1. 0. 0. 1. 0. 1. 1. 0. 0.\n",
            " 1. 0. 1. 0. 0. 1. 0. 1. 0. 1. 1. 1. 0. 0. 1. 0. 1. 0. 0. 0. 1. 0. 0. 0.\n",
            " 0. 1. 1. 1. 0. 0. 0. 0. 0. 0. 0. 0. 0. 1. 0. 0. 0. 0. 0. 1. 1. 1. 0. 1.\n",
            " 1. 0. 0. 1. 0. 0. 1. 0. 0. 1. 1. 0. 0. 0. 0. 1. 0. 0. 1. 0. 0. 0. 0. 0.\n",
            " 0. 0. 1. 1. 1. 0. 0. 1. 0. 0. 1. 0. 0. 1. 0. 1. 1. 0. 1. 0. 1. 0. 1. 0.\n",
            " 1. 1. 0. 0. 0. 0. 1. 1. 0. 1. 0. 1. 0. 0. 0. 0. 1. 1. 0. 1. 0. 1. 0. 0.\n",
            " 0. 0. 0. 1. 0. 0. 0. 0. 1. 0. 0. 1. 1. 1. 0. 0. 1. 0. 0. 1. 0. 0. 0. 1.\n",
            " 0. 0. 1. 0. 0. 0. 0. 0. 0. 0. 0. 0. 1. 0. 0. 0. 0. 0. 0. 0. 1. 0. 0. 0.\n",
            " 1. 0. 0. 0. 1. 1. 0. 0. 0. 0. 0. 0. 0. 1. 0. 0. 0. 0. 1. 0. 0. 0. 1. 0.\n",
            " 0. 0. 1. 0. 0. 0. 1. 0. 0. 0. 0. 1. 1. 0. 0. 0. 0. 0. 0. 1. 0. 0. 0. 0.\n",
            " 0. 0. 0. 0. 0. 0. 0. 1. 0. 0. 0. 1. 1. 1. 1. 0. 0. 1. 1. 0. 0. 0. 0. 0.\n",
            " 0. 0. 0. 0. 0. 0. 0. 0. 1. 1. 0. 0. 0. 0. 0. 0. 0. 1. 0. 0. 0. 0. 0. 0.\n",
            " 0. 1. 0. 1. 1. 0. 0. 0. 1. 0. 1. 0. 1. 0. 1. 0. 1. 0. 0. 1. 0. 0. 1. 0.\n",
            " 0. 0. 0. 1. 1. 0. 1. 0. 0. 0. 0. 1. 1. 0. 1. 0. 0. 0. 1. 1. 0. 0. 0. 0.\n",
            " 0. 0. 0. 0. 0. 0. 1. 0. 0. 0. 0. 1. 0. 0. 1. 0. 0. 0. 1. 0. 0. 0. 1. 1.\n",
            " 1. 0. 0. 0. 0. 0. 0. 1. 0. 0. 0. 1. 0. 1. 1. 1. 1. 0. 1. 1. 0. 0. 0. 0.\n",
            " 0. 0. 0. 1. 1. 0. 1. 0. 0. 1. 0. 1. 0. 0. 0. 0. 0. 1. 0. 1. 0. 1. 0. 1.\n",
            " 1. 0. 0. 0. 0. 1. 1. 0. 0. 0. 1. 0. 1. 1. 0. 0. 1. 0. 0. 1. 1. 0. 0. 1.\n",
            " 0. 0. 1. 0. 0. 0. 0. 0. 0. 0. 1. 1. 1. 0. 0. 0. 0. 0. 0. 1. 1. 0. 0. 1.\n",
            " 0. 0. 1. 0. 1. 1. 1. 0. 0. 1. 1. 1. 0. 1. 0. 1. 0. 1. 0. 0. 0. 0. 1. 0.]\n"
          ]
        }
      ]
    },
    {
      "cell_type": "markdown",
      "metadata": {
        "id": "OdPZerNUZV4Q"
      },
      "source": [
        "**5. Data Normalization**"
      ]
    },
    {
      "cell_type": "code",
      "metadata": {
        "colab": {
          "base_uri": "https://localhost:8080/"
        },
        "id": "pM4g3T1fWri-",
        "outputId": "eb0ce538-eeef-4a20-db4a-55fe4a7c21a7"
      },
      "source": [
        "from sklearn import preprocessing\n",
        "min_max_scaler = preprocessing.MinMaxScaler()\n",
        "X_scale = min_max_scaler.fit_transform(X)\n",
        "X_scale"
      ],
      "execution_count": 9,
      "outputs": [
        {
          "output_type": "execute_result",
          "data": {
            "text/plain": [
              "array([[0.35294118, 0.74371859, 0.59016393, ..., 0.50074516, 0.23441503,\n",
              "        0.48333333],\n",
              "       [0.05882353, 0.42713568, 0.54098361, ..., 0.39642325, 0.11656704,\n",
              "        0.16666667],\n",
              "       [0.47058824, 0.91959799, 0.52459016, ..., 0.34724292, 0.25362938,\n",
              "        0.18333333],\n",
              "       ...,\n",
              "       [0.29411765, 0.6080402 , 0.59016393, ..., 0.390462  , 0.07130658,\n",
              "        0.15      ],\n",
              "       [0.05882353, 0.63316583, 0.49180328, ..., 0.4485842 , 0.11571307,\n",
              "        0.43333333],\n",
              "       [0.05882353, 0.46733668, 0.57377049, ..., 0.45305514, 0.10119556,\n",
              "        0.03333333]])"
            ]
          },
          "metadata": {},
          "execution_count": 9
        }
      ]
    },
    {
      "cell_type": "markdown",
      "metadata": {
        "id": "n1B5x8C0ZY-e"
      },
      "source": [
        "**6. One-hot vector conversion**"
      ]
    },
    {
      "cell_type": "code",
      "metadata": {
        "colab": {
          "base_uri": "https://localhost:8080/"
        },
        "id": "IWPUAnA-XNd8",
        "outputId": "d52d41bb-7b00-483e-ed1e-19afe7c07f7a"
      },
      "source": [
        "from keras.utils import np_utils\n",
        "encoded_y = np_utils.to_categorical(Y)\n",
        "encoded_y"
      ],
      "execution_count": 11,
      "outputs": [
        {
          "output_type": "execute_result",
          "data": {
            "text/plain": [
              "array([[0., 1.],\n",
              "       [1., 0.],\n",
              "       [0., 1.],\n",
              "       ...,\n",
              "       [1., 0.],\n",
              "       [0., 1.],\n",
              "       [1., 0.]], dtype=float32)"
            ]
          },
          "metadata": {},
          "execution_count": 11
        }
      ]
    },
    {
      "cell_type": "markdown",
      "metadata": {
        "id": "IeJWmMxjZbgo"
      },
      "source": [
        "**7. Split the dataset into training, testing and validation set**"
      ]
    },
    {
      "cell_type": "code",
      "metadata": {
        "colab": {
          "base_uri": "https://localhost:8080/"
        },
        "id": "3BqXnV1FXYIV",
        "outputId": "3c612acf-e091-430d-bf03-4e635960451f"
      },
      "source": [
        "from sklearn.model_selection import train_test_split\n",
        "X_training, X_testing, Y_training, Y_testing = train_test_split(X_scale, encoded_y, test_size=0.2, random_state=10)\n",
        "X_training, X_valid, Y_training, Y_valid = train_test_split(X_training, Y_training, test_size=0.2, random_state=10)\n",
        "print(len(X_training))\n",
        "print(len(X_testing))\n",
        "print(len(X_valid))"
      ],
      "execution_count": 67,
      "outputs": [
        {
          "output_type": "stream",
          "name": "stdout",
          "text": [
            "491\n",
            "154\n",
            "123\n"
          ]
        }
      ]
    },
    {
      "cell_type": "markdown",
      "metadata": {
        "id": "EH9IZizVZfKB"
      },
      "source": [
        "**8. Model Creation**"
      ]
    },
    {
      "cell_type": "code",
      "metadata": {
        "id": "hNfmvbMOXeku",
        "colab": {
          "base_uri": "https://localhost:8080/"
        },
        "outputId": "ccbbfb7c-0ce2-4a66-d1fe-cca7e041564e"
      },
      "source": [
        "from keras.models import Sequential\n",
        "from keras.layers import Dense\n",
        "\n",
        "# Creating the model\n",
        "model = Sequential()\n",
        "model.add(Dense(24, input_shape=(8,), activation='relu'))\n",
        "model.add(Dense(20, activation='relu'))\n",
        "model.add(Dense(12, activation='relu'))\n",
        "model.add(Dense(8, activation='relu'))\n",
        "model.add(Dense(2, activation='softmax'))\n",
        "model.summary()   #gives a summary of the model"
      ],
      "execution_count": 68,
      "outputs": [
        {
          "output_type": "stream",
          "name": "stdout",
          "text": [
            "Model: \"sequential_5\"\n",
            "_________________________________________________________________\n",
            " Layer (type)                Output Shape              Param #   \n",
            "=================================================================\n",
            " dense_25 (Dense)            (None, 24)                216       \n",
            "                                                                 \n",
            " dense_26 (Dense)            (None, 20)                500       \n",
            "                                                                 \n",
            " dense_27 (Dense)            (None, 12)                252       \n",
            "                                                                 \n",
            " dense_28 (Dense)            (None, 8)                 104       \n",
            "                                                                 \n",
            " dense_29 (Dense)            (None, 2)                 18        \n",
            "                                                                 \n",
            "=================================================================\n",
            "Total params: 1,090\n",
            "Trainable params: 1,090\n",
            "Non-trainable params: 0\n",
            "_________________________________________________________________\n"
          ]
        }
      ]
    },
    {
      "cell_type": "markdown",
      "metadata": {
        "id": "iYxZHI_EZiEF"
      },
      "source": [
        "**9. Model Compile**"
      ]
    },
    {
      "cell_type": "code",
      "metadata": {
        "id": "plF2qlxwXiIY"
      },
      "source": [
        "from tensorflow.keras import optimizers\n",
        "opt=optimizers.SGD(learning_rate=0.01)\n",
        "model.compile(loss='categorical_crossentropy', optimizer=opt, metrics=['accuracy'])"
      ],
      "execution_count": 69,
      "outputs": []
    },
    {
      "cell_type": "markdown",
      "metadata": {
        "id": "E8VrUFVQZkNd"
      },
      "source": [
        "**10. Model Training**"
      ]
    },
    {
      "cell_type": "markdown",
      "source": [
        "if you have 1000 training examples, and your batch size is  500, then it will take 2 iterations to complete 1 epoch."
      ],
      "metadata": {
        "id": "08Ul5lN90_Sp"
      }
    },
    {
      "cell_type": "code",
      "metadata": {
        "colab": {
          "base_uri": "https://localhost:8080/"
        },
        "id": "xhDZ8yPhXrs0",
        "outputId": "28c3fe84-685a-42d9-a8b2-d99258ff2891"
      },
      "source": [
        "hist = model.fit(X_training, Y_training,batch_size=8,  epochs=100, validation_data=(X_valid,Y_valid))"
      ],
      "execution_count": 73,
      "outputs": [
        {
          "output_type": "stream",
          "name": "stdout",
          "text": [
            "Epoch 1/100\n",
            "62/62 [==============================] - 0s 3ms/step - loss: 0.3959 - accuracy: 0.8045 - val_loss: 0.5024 - val_accuracy: 0.7642\n",
            "Epoch 2/100\n",
            "62/62 [==============================] - 0s 3ms/step - loss: 0.3913 - accuracy: 0.8208 - val_loss: 0.5104 - val_accuracy: 0.7886\n",
            "Epoch 3/100\n",
            "62/62 [==============================] - 0s 4ms/step - loss: 0.3933 - accuracy: 0.8187 - val_loss: 0.5223 - val_accuracy: 0.7967\n",
            "Epoch 4/100\n",
            "62/62 [==============================] - 0s 3ms/step - loss: 0.3883 - accuracy: 0.8248 - val_loss: 0.5045 - val_accuracy: 0.7886\n",
            "Epoch 5/100\n",
            "62/62 [==============================] - 0s 3ms/step - loss: 0.3905 - accuracy: 0.8269 - val_loss: 0.5001 - val_accuracy: 0.7967\n",
            "Epoch 6/100\n",
            "62/62 [==============================] - 0s 3ms/step - loss: 0.3937 - accuracy: 0.8126 - val_loss: 0.5017 - val_accuracy: 0.8049\n",
            "Epoch 7/100\n",
            "62/62 [==============================] - 0s 3ms/step - loss: 0.3884 - accuracy: 0.8228 - val_loss: 0.5031 - val_accuracy: 0.7967\n",
            "Epoch 8/100\n",
            "62/62 [==============================] - 0s 3ms/step - loss: 0.3856 - accuracy: 0.8289 - val_loss: 0.5040 - val_accuracy: 0.7886\n",
            "Epoch 9/100\n",
            "62/62 [==============================] - 0s 3ms/step - loss: 0.3867 - accuracy: 0.8289 - val_loss: 0.5244 - val_accuracy: 0.7561\n",
            "Epoch 10/100\n",
            "62/62 [==============================] - 0s 3ms/step - loss: 0.3888 - accuracy: 0.8126 - val_loss: 0.5242 - val_accuracy: 0.7724\n",
            "Epoch 11/100\n",
            "62/62 [==============================] - 0s 2ms/step - loss: 0.3857 - accuracy: 0.8330 - val_loss: 0.5241 - val_accuracy: 0.7886\n",
            "Epoch 12/100\n",
            "62/62 [==============================] - 0s 3ms/step - loss: 0.3877 - accuracy: 0.8269 - val_loss: 0.5174 - val_accuracy: 0.7724\n",
            "Epoch 13/100\n",
            "62/62 [==============================] - 0s 2ms/step - loss: 0.3855 - accuracy: 0.8208 - val_loss: 0.5131 - val_accuracy: 0.7724\n",
            "Epoch 14/100\n",
            "62/62 [==============================] - 0s 2ms/step - loss: 0.3862 - accuracy: 0.8248 - val_loss: 0.5158 - val_accuracy: 0.7805\n",
            "Epoch 15/100\n",
            "62/62 [==============================] - 0s 2ms/step - loss: 0.3862 - accuracy: 0.8208 - val_loss: 0.5225 - val_accuracy: 0.7642\n",
            "Epoch 16/100\n",
            "62/62 [==============================] - 0s 3ms/step - loss: 0.3866 - accuracy: 0.8248 - val_loss: 0.5246 - val_accuracy: 0.7805\n",
            "Epoch 17/100\n",
            "62/62 [==============================] - 0s 2ms/step - loss: 0.3870 - accuracy: 0.8228 - val_loss: 0.5198 - val_accuracy: 0.7724\n",
            "Epoch 18/100\n",
            "62/62 [==============================] - 0s 2ms/step - loss: 0.3835 - accuracy: 0.8208 - val_loss: 0.5313 - val_accuracy: 0.7642\n",
            "Epoch 19/100\n",
            "62/62 [==============================] - 0s 2ms/step - loss: 0.3860 - accuracy: 0.8187 - val_loss: 0.5215 - val_accuracy: 0.7724\n",
            "Epoch 20/100\n",
            "62/62 [==============================] - 0s 2ms/step - loss: 0.3856 - accuracy: 0.8411 - val_loss: 0.5292 - val_accuracy: 0.7967\n",
            "Epoch 21/100\n",
            "62/62 [==============================] - 0s 2ms/step - loss: 0.3879 - accuracy: 0.8228 - val_loss: 0.5359 - val_accuracy: 0.8049\n",
            "Epoch 22/100\n",
            "62/62 [==============================] - 0s 3ms/step - loss: 0.3840 - accuracy: 0.8208 - val_loss: 0.5224 - val_accuracy: 0.7886\n",
            "Epoch 23/100\n",
            "62/62 [==============================] - 0s 3ms/step - loss: 0.3802 - accuracy: 0.8310 - val_loss: 0.5408 - val_accuracy: 0.7967\n",
            "Epoch 24/100\n",
            "62/62 [==============================] - 0s 2ms/step - loss: 0.3852 - accuracy: 0.8228 - val_loss: 0.5177 - val_accuracy: 0.7805\n",
            "Epoch 25/100\n",
            "62/62 [==============================] - 0s 2ms/step - loss: 0.3832 - accuracy: 0.8350 - val_loss: 0.5343 - val_accuracy: 0.7642\n",
            "Epoch 26/100\n",
            "62/62 [==============================] - 0s 3ms/step - loss: 0.3829 - accuracy: 0.8167 - val_loss: 0.5349 - val_accuracy: 0.7886\n",
            "Epoch 27/100\n",
            "62/62 [==============================] - 0s 3ms/step - loss: 0.3861 - accuracy: 0.8208 - val_loss: 0.5324 - val_accuracy: 0.8049\n",
            "Epoch 28/100\n",
            "62/62 [==============================] - 0s 2ms/step - loss: 0.3842 - accuracy: 0.8208 - val_loss: 0.5346 - val_accuracy: 0.7642\n",
            "Epoch 29/100\n",
            "62/62 [==============================] - 0s 2ms/step - loss: 0.3808 - accuracy: 0.8269 - val_loss: 0.5480 - val_accuracy: 0.7724\n",
            "Epoch 30/100\n",
            "62/62 [==============================] - 0s 3ms/step - loss: 0.3822 - accuracy: 0.8248 - val_loss: 0.5425 - val_accuracy: 0.7805\n",
            "Epoch 31/100\n",
            "62/62 [==============================] - 0s 3ms/step - loss: 0.3813 - accuracy: 0.8248 - val_loss: 0.5358 - val_accuracy: 0.7724\n",
            "Epoch 32/100\n",
            "62/62 [==============================] - 0s 3ms/step - loss: 0.3792 - accuracy: 0.8289 - val_loss: 0.5508 - val_accuracy: 0.7642\n",
            "Epoch 33/100\n",
            "62/62 [==============================] - 0s 3ms/step - loss: 0.3827 - accuracy: 0.8147 - val_loss: 0.5550 - val_accuracy: 0.7886\n",
            "Epoch 34/100\n",
            "62/62 [==============================] - 0s 3ms/step - loss: 0.3803 - accuracy: 0.8330 - val_loss: 0.5329 - val_accuracy: 0.7967\n",
            "Epoch 35/100\n",
            "62/62 [==============================] - 0s 2ms/step - loss: 0.3760 - accuracy: 0.8208 - val_loss: 0.5368 - val_accuracy: 0.7642\n",
            "Epoch 36/100\n",
            "62/62 [==============================] - 0s 2ms/step - loss: 0.3809 - accuracy: 0.8167 - val_loss: 0.5449 - val_accuracy: 0.7642\n",
            "Epoch 37/100\n",
            "62/62 [==============================] - 0s 3ms/step - loss: 0.3830 - accuracy: 0.8187 - val_loss: 0.5514 - val_accuracy: 0.7724\n",
            "Epoch 38/100\n",
            "62/62 [==============================] - 0s 3ms/step - loss: 0.3814 - accuracy: 0.8330 - val_loss: 0.5546 - val_accuracy: 0.7480\n",
            "Epoch 39/100\n",
            "62/62 [==============================] - 0s 3ms/step - loss: 0.3811 - accuracy: 0.8289 - val_loss: 0.5719 - val_accuracy: 0.7642\n",
            "Epoch 40/100\n",
            "62/62 [==============================] - 0s 3ms/step - loss: 0.3793 - accuracy: 0.8228 - val_loss: 0.5454 - val_accuracy: 0.7642\n",
            "Epoch 41/100\n",
            "62/62 [==============================] - 0s 3ms/step - loss: 0.3737 - accuracy: 0.8310 - val_loss: 0.5905 - val_accuracy: 0.7805\n",
            "Epoch 42/100\n",
            "62/62 [==============================] - 0s 3ms/step - loss: 0.3781 - accuracy: 0.8310 - val_loss: 0.5555 - val_accuracy: 0.7724\n",
            "Epoch 43/100\n",
            "62/62 [==============================] - 0s 3ms/step - loss: 0.3789 - accuracy: 0.8248 - val_loss: 0.5488 - val_accuracy: 0.7967\n",
            "Epoch 44/100\n",
            "62/62 [==============================] - 0s 3ms/step - loss: 0.3810 - accuracy: 0.8228 - val_loss: 0.5429 - val_accuracy: 0.7724\n",
            "Epoch 45/100\n",
            "62/62 [==============================] - 0s 3ms/step - loss: 0.3788 - accuracy: 0.8187 - val_loss: 0.5431 - val_accuracy: 0.7805\n",
            "Epoch 46/100\n",
            "62/62 [==============================] - 0s 3ms/step - loss: 0.3774 - accuracy: 0.8310 - val_loss: 0.5736 - val_accuracy: 0.7642\n",
            "Epoch 47/100\n",
            "62/62 [==============================] - 0s 2ms/step - loss: 0.3750 - accuracy: 0.8350 - val_loss: 0.5640 - val_accuracy: 0.7480\n",
            "Epoch 48/100\n",
            "62/62 [==============================] - 0s 3ms/step - loss: 0.3754 - accuracy: 0.8228 - val_loss: 0.5942 - val_accuracy: 0.7805\n",
            "Epoch 49/100\n",
            "62/62 [==============================] - 0s 3ms/step - loss: 0.3767 - accuracy: 0.8330 - val_loss: 0.6094 - val_accuracy: 0.7724\n",
            "Epoch 50/100\n",
            "62/62 [==============================] - 0s 3ms/step - loss: 0.3824 - accuracy: 0.8289 - val_loss: 0.5585 - val_accuracy: 0.7642\n",
            "Epoch 51/100\n",
            "62/62 [==============================] - 0s 2ms/step - loss: 0.3809 - accuracy: 0.8391 - val_loss: 0.5588 - val_accuracy: 0.7805\n",
            "Epoch 52/100\n",
            "62/62 [==============================] - 0s 2ms/step - loss: 0.3804 - accuracy: 0.8248 - val_loss: 0.5519 - val_accuracy: 0.7642\n",
            "Epoch 53/100\n",
            "62/62 [==============================] - 0s 2ms/step - loss: 0.3763 - accuracy: 0.8269 - val_loss: 0.5647 - val_accuracy: 0.7886\n",
            "Epoch 54/100\n",
            "62/62 [==============================] - 0s 2ms/step - loss: 0.3766 - accuracy: 0.8269 - val_loss: 0.5648 - val_accuracy: 0.7561\n",
            "Epoch 55/100\n",
            "62/62 [==============================] - 0s 2ms/step - loss: 0.3799 - accuracy: 0.8330 - val_loss: 0.5516 - val_accuracy: 0.7724\n",
            "Epoch 56/100\n",
            "62/62 [==============================] - 0s 2ms/step - loss: 0.3756 - accuracy: 0.8289 - val_loss: 0.5568 - val_accuracy: 0.7886\n",
            "Epoch 57/100\n",
            "62/62 [==============================] - 0s 2ms/step - loss: 0.3731 - accuracy: 0.8167 - val_loss: 0.5653 - val_accuracy: 0.7561\n",
            "Epoch 58/100\n",
            "62/62 [==============================] - 0s 2ms/step - loss: 0.3763 - accuracy: 0.8248 - val_loss: 0.5658 - val_accuracy: 0.7642\n",
            "Epoch 59/100\n",
            "62/62 [==============================] - 0s 2ms/step - loss: 0.3740 - accuracy: 0.8228 - val_loss: 0.5804 - val_accuracy: 0.7480\n",
            "Epoch 60/100\n",
            "62/62 [==============================] - 0s 2ms/step - loss: 0.3719 - accuracy: 0.8350 - val_loss: 0.6107 - val_accuracy: 0.7724\n",
            "Epoch 61/100\n",
            "62/62 [==============================] - 0s 2ms/step - loss: 0.3733 - accuracy: 0.8310 - val_loss: 0.5661 - val_accuracy: 0.7886\n",
            "Epoch 62/100\n",
            "62/62 [==============================] - 0s 3ms/step - loss: 0.3816 - accuracy: 0.8208 - val_loss: 0.5666 - val_accuracy: 0.7724\n",
            "Epoch 63/100\n",
            "62/62 [==============================] - 0s 2ms/step - loss: 0.3681 - accuracy: 0.8432 - val_loss: 0.5341 - val_accuracy: 0.8130\n",
            "Epoch 64/100\n",
            "62/62 [==============================] - 0s 3ms/step - loss: 0.3695 - accuracy: 0.8330 - val_loss: 0.6090 - val_accuracy: 0.7317\n",
            "Epoch 65/100\n",
            "62/62 [==============================] - 0s 3ms/step - loss: 0.3758 - accuracy: 0.8248 - val_loss: 0.5592 - val_accuracy: 0.7561\n",
            "Epoch 66/100\n",
            "62/62 [==============================] - 0s 3ms/step - loss: 0.3740 - accuracy: 0.8330 - val_loss: 0.5787 - val_accuracy: 0.7886\n",
            "Epoch 67/100\n",
            "62/62 [==============================] - 0s 4ms/step - loss: 0.3756 - accuracy: 0.8269 - val_loss: 0.5839 - val_accuracy: 0.7561\n",
            "Epoch 68/100\n",
            "62/62 [==============================] - 0s 4ms/step - loss: 0.3734 - accuracy: 0.8289 - val_loss: 0.5703 - val_accuracy: 0.7805\n",
            "Epoch 69/100\n",
            "62/62 [==============================] - 0s 2ms/step - loss: 0.3702 - accuracy: 0.8350 - val_loss: 0.5717 - val_accuracy: 0.7561\n",
            "Epoch 70/100\n",
            "62/62 [==============================] - 0s 3ms/step - loss: 0.3761 - accuracy: 0.8330 - val_loss: 0.5745 - val_accuracy: 0.7805\n",
            "Epoch 71/100\n",
            "62/62 [==============================] - 0s 2ms/step - loss: 0.3742 - accuracy: 0.8371 - val_loss: 0.5787 - val_accuracy: 0.7886\n",
            "Epoch 72/100\n",
            "62/62 [==============================] - 0s 2ms/step - loss: 0.3688 - accuracy: 0.8248 - val_loss: 0.5883 - val_accuracy: 0.7967\n",
            "Epoch 73/100\n",
            "62/62 [==============================] - 0s 2ms/step - loss: 0.3688 - accuracy: 0.8452 - val_loss: 0.5618 - val_accuracy: 0.7642\n",
            "Epoch 74/100\n",
            "62/62 [==============================] - 0s 2ms/step - loss: 0.3738 - accuracy: 0.8473 - val_loss: 0.5780 - val_accuracy: 0.7642\n",
            "Epoch 75/100\n",
            "62/62 [==============================] - 0s 3ms/step - loss: 0.3674 - accuracy: 0.8411 - val_loss: 0.6284 - val_accuracy: 0.7642\n",
            "Epoch 76/100\n",
            "62/62 [==============================] - 0s 3ms/step - loss: 0.3680 - accuracy: 0.8248 - val_loss: 0.6113 - val_accuracy: 0.7398\n",
            "Epoch 77/100\n",
            "62/62 [==============================] - 0s 3ms/step - loss: 0.3733 - accuracy: 0.8208 - val_loss: 0.5760 - val_accuracy: 0.7642\n",
            "Epoch 78/100\n",
            "62/62 [==============================] - 0s 4ms/step - loss: 0.3680 - accuracy: 0.8310 - val_loss: 0.5739 - val_accuracy: 0.7724\n",
            "Epoch 79/100\n",
            "62/62 [==============================] - 0s 3ms/step - loss: 0.3733 - accuracy: 0.8289 - val_loss: 0.5765 - val_accuracy: 0.7967\n",
            "Epoch 80/100\n",
            "62/62 [==============================] - 0s 3ms/step - loss: 0.3680 - accuracy: 0.8473 - val_loss: 0.6300 - val_accuracy: 0.7642\n",
            "Epoch 81/100\n",
            "62/62 [==============================] - 0s 3ms/step - loss: 0.3721 - accuracy: 0.8289 - val_loss: 0.5759 - val_accuracy: 0.7724\n",
            "Epoch 82/100\n",
            "62/62 [==============================] - 0s 3ms/step - loss: 0.3682 - accuracy: 0.8350 - val_loss: 0.5770 - val_accuracy: 0.7561\n",
            "Epoch 83/100\n",
            "62/62 [==============================] - 0s 3ms/step - loss: 0.3743 - accuracy: 0.8330 - val_loss: 0.5713 - val_accuracy: 0.7642\n",
            "Epoch 84/100\n",
            "62/62 [==============================] - 0s 4ms/step - loss: 0.3737 - accuracy: 0.8289 - val_loss: 0.5746 - val_accuracy: 0.7642\n",
            "Epoch 85/100\n",
            "62/62 [==============================] - 0s 3ms/step - loss: 0.3717 - accuracy: 0.8350 - val_loss: 0.5918 - val_accuracy: 0.7724\n",
            "Epoch 86/100\n",
            "62/62 [==============================] - 0s 2ms/step - loss: 0.3621 - accuracy: 0.8452 - val_loss: 0.5902 - val_accuracy: 0.7724\n",
            "Epoch 87/100\n",
            "62/62 [==============================] - 0s 2ms/step - loss: 0.3667 - accuracy: 0.8269 - val_loss: 0.5927 - val_accuracy: 0.7967\n",
            "Epoch 88/100\n",
            "62/62 [==============================] - 0s 2ms/step - loss: 0.3664 - accuracy: 0.8371 - val_loss: 0.5836 - val_accuracy: 0.7236\n",
            "Epoch 89/100\n",
            "62/62 [==============================] - 0s 2ms/step - loss: 0.3750 - accuracy: 0.8228 - val_loss: 0.5713 - val_accuracy: 0.7967\n",
            "Epoch 90/100\n",
            "62/62 [==============================] - 0s 3ms/step - loss: 0.3711 - accuracy: 0.8330 - val_loss: 0.5896 - val_accuracy: 0.7561\n",
            "Epoch 91/100\n",
            "62/62 [==============================] - 0s 3ms/step - loss: 0.3666 - accuracy: 0.8371 - val_loss: 0.5767 - val_accuracy: 0.7642\n",
            "Epoch 92/100\n",
            "62/62 [==============================] - 0s 2ms/step - loss: 0.3712 - accuracy: 0.8371 - val_loss: 0.5870 - val_accuracy: 0.7642\n",
            "Epoch 93/100\n",
            "62/62 [==============================] - 0s 2ms/step - loss: 0.3611 - accuracy: 0.8473 - val_loss: 0.5869 - val_accuracy: 0.7642\n",
            "Epoch 94/100\n",
            "62/62 [==============================] - 0s 2ms/step - loss: 0.3672 - accuracy: 0.8350 - val_loss: 0.6050 - val_accuracy: 0.7561\n",
            "Epoch 95/100\n",
            "62/62 [==============================] - 0s 2ms/step - loss: 0.3671 - accuracy: 0.8330 - val_loss: 0.5813 - val_accuracy: 0.7886\n",
            "Epoch 96/100\n",
            "62/62 [==============================] - 0s 2ms/step - loss: 0.3704 - accuracy: 0.8432 - val_loss: 0.5632 - val_accuracy: 0.7805\n",
            "Epoch 97/100\n",
            "62/62 [==============================] - 0s 2ms/step - loss: 0.3680 - accuracy: 0.8310 - val_loss: 0.5802 - val_accuracy: 0.7642\n",
            "Epoch 98/100\n",
            "62/62 [==============================] - 0s 3ms/step - loss: 0.3703 - accuracy: 0.8310 - val_loss: 0.5789 - val_accuracy: 0.7886\n",
            "Epoch 99/100\n",
            "62/62 [==============================] - 0s 2ms/step - loss: 0.3639 - accuracy: 0.8310 - val_loss: 0.6251 - val_accuracy: 0.7724\n",
            "Epoch 100/100\n",
            "62/62 [==============================] - 0s 2ms/step - loss: 0.3703 - accuracy: 0.8452 - val_loss: 0.5846 - val_accuracy: 0.7805\n"
          ]
        }
      ]
    },
    {
      "cell_type": "markdown",
      "metadata": {
        "id": "80o1i3fzZsA-"
      },
      "source": [
        "**11. Plot the training loss and accuracy**"
      ]
    },
    {
      "cell_type": "code",
      "source": [
        "import matplotlib.pyplot as plt \n",
        "acc = hist.history['accuracy']\n",
        "val_acc = hist.history['val_accuracy']\n",
        "loss = hist.history['loss']\n",
        "val_loss = hist.history['val_loss']\n",
        " \n",
        "epochs = range(len(acc))\n",
        " \n",
        "plt.plot(epochs, acc, 'b', label='Training acc')\n",
        "plt.plot(epochs, val_acc, 'r', label='Validation acc')\n",
        "plt.title('Training and validation accuracy')\n",
        "plt.legend()\n",
        "plt.savefig('custom_trainvalacc.png')\n",
        "plt.figure()\n",
        " \n",
        "plt.plot(epochs, loss, 'b', label='Training loss')\n",
        "plt.plot(epochs, val_loss, 'r', label='Validation loss')\n",
        "plt.title('Training and validation loss')\n",
        "plt.legend()\n",
        " \n",
        "#plt.show()\n",
        "plt.savefig('custom_trainvalloss.png')\n",
        "plt.figure()"
      ],
      "metadata": {
        "colab": {
          "base_uri": "https://localhost:8080/",
          "height": 580
        },
        "id": "69dOEi6HAiXT",
        "outputId": "0443bfb7-6250-4706-e2e9-14b4399c33ed"
      },
      "execution_count": 74,
      "outputs": [
        {
          "output_type": "execute_result",
          "data": {
            "text/plain": [
              "<Figure size 432x288 with 0 Axes>"
            ]
          },
          "metadata": {},
          "execution_count": 74
        },
        {
          "output_type": "display_data",
          "data": {
            "text/plain": [
              "<Figure size 432x288 with 1 Axes>"
            ],
            "image/png": "[encoded data removed]"
          },
          "metadata": {
            "needs_background": "light"
          }
        },
        {
          "output_type": "display_data",
          "data": {
            "text/plain": [
              "<Figure size 432x288 with 1 Axes>"
            ],
            "image/png": "[encoded data removed]"
          },
          "metadata": {
            "needs_background": "light"
          }
        },
        {
          "output_type": "display_data",
          "data": {
            "text/plain": [
              "<Figure size 432x288 with 0 Axes>"
            ]
          },
          "metadata": {}
        }
      ]
    },
    {
      "cell_type": "markdown",
      "metadata": {
        "id": "a8fUXoqeZvwf"
      },
      "source": [
        "**12. Evaluate the performance**"
      ]
    },
    {
      "cell_type": "code",
      "metadata": {
        "colab": {
          "base_uri": "https://localhost:8080/"
        },
        "id": "wawHhkURYMLE",
        "outputId": "6a674d3f-e4d1-43a7-8e29-b5ce8018060c"
      },
      "source": [
        "res =model.evaluate(X_testing, Y_testing)"
      ],
      "execution_count": 75,
      "outputs": [
        {
          "output_type": "stream",
          "name": "stdout",
          "text": [
            "5/5 [==============================] - 0s 4ms/step - loss: 0.5809 - accuracy: 0.7403\n"
          ]
        }
      ]
    },
    {
      "cell_type": "markdown",
      "metadata": {
        "id": "0WCSw36oZyG_"
      },
      "source": [
        "**13. Predict on new datatset**\n"
      ]
    },
    {
      "cell_type": "code",
      "metadata": {
        "colab": {
          "base_uri": "https://localhost:8080/"
        },
        "id": "CcE27mGFYo3G",
        "outputId": "fa98a8bd-89ff-4dee-b737-42cd2d5d4122"
      },
      "source": [
        "test=X_testing[0]\n",
        "y_act=Y_testing[0]\n",
        "result=model.predict(test.reshape(1,8))\n",
        "result"
      ],
      "execution_count": 26,
      "outputs": [
        {
          "output_type": "execute_result",
          "data": {
            "text/plain": [
              "array([[0.00373292, 0.99626714]], dtype=float32)"
            ]
          },
          "metadata": {},
          "execution_count": 26
        }
      ]
    },
    {
      "cell_type": "code",
      "metadata": {
        "colab": {
          "base_uri": "https://localhost:8080/"
        },
        "id": "T4RDC-ZHYqv_",
        "outputId": "baab8362-88fd-4b20-bf91-17f5e4cb015b"
      },
      "source": [
        "import numpy as np\n",
        "y_pred = np.round(result)\n",
        "print(\"Actual:\"+ str(y_act))\n",
        "print(\"Predicted:\"+str(y_pred))"
      ],
      "execution_count": 27,
      "outputs": [
        {
          "output_type": "stream",
          "name": "stdout",
          "text": [
            "Actual:[1. 0.]\n",
            "Predicted:[[0. 1.]]\n"
          ]
        }
      ]
    },
    {
      "cell_type": "markdown",
      "metadata": {
        "id": "E9mMqJtXYz2Q"
      },
      "source": [
        "**Reference:** - https://keras.io/"
      ]
    }
  ]
}